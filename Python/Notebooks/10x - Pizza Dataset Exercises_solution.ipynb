{
 "cells": [
  {
   "cell_type": "markdown",
   "metadata": {},
   "source": [
    "# Pizza dataset\n",
    "\n",
    "Welcome to a quick exercise for you to practice your pandas skills! We will be using the Pizza sales dataset used for previous Academy projects. Just follow along and complete the tasks outlined in bold below. The tasks will get harder and harder as you go along."
   ]
  },
  {
   "cell_type": "markdown",
   "metadata": {},
   "source": [
    "** Import pandas as pd.**"
   ]
  },
  {
   "cell_type": "code",
   "execution_count": 1,
   "metadata": {},
   "outputs": [],
   "source": [
    "import pandas as pd"
   ]
  },
  {
   "cell_type": "markdown",
   "metadata": {},
   "source": [
    "**Read pizza_sales.csv as a dataframe called pizzas. Uncomment lines below once you're done.**"
   ]
  },
  {
   "cell_type": "code",
   "execution_count": 2,
   "metadata": {
    "collapsed": false,
    "jupyter": {
     "outputs_hidden": false
    }
   },
   "outputs": [],
   "source": [
    "pizzas = pd.read_csv(\"pizza_sales.csv\")\n",
    "\n",
    "# Uncomment these lines once you manage to load the pizzas dataframe.\n",
    "pizzas[\"order_time\"] = pd.to_datetime(pizzas[\"order_time\"], format=\"%H:%M\")\n",
    "pizzas[\"order_date\"] = pd.to_datetime(pizzas[\"order_date\"])"
   ]
  },
  {
   "cell_type": "markdown",
   "metadata": {},
   "source": [
    "**Check the head of the DataFrame.**"
   ]
  },
  {
   "cell_type": "code",
   "execution_count": 3,
   "metadata": {
    "collapsed": false,
    "jupyter": {
     "outputs_hidden": false
    }
   },
   "outputs": [
    {
     "data": {
      "text/html": [
       "<div>\n",
       "<style scoped>\n",
       "    .dataframe tbody tr th:only-of-type {\n",
       "        vertical-align: middle;\n",
       "    }\n",
       "\n",
       "    .dataframe tbody tr th {\n",
       "        vertical-align: top;\n",
       "    }\n",
       "\n",
       "    .dataframe thead th {\n",
       "        text-align: right;\n",
       "    }\n",
       "</style>\n",
       "<table border=\"1\" class=\"dataframe\">\n",
       "  <thead>\n",
       "    <tr style=\"text-align: right;\">\n",
       "      <th></th>\n",
       "      <th>order_details_id</th>\n",
       "      <th>order_id</th>\n",
       "      <th>pizza_id</th>\n",
       "      <th>quantity</th>\n",
       "      <th>order_date</th>\n",
       "      <th>order_time</th>\n",
       "      <th>unit_price</th>\n",
       "      <th>total_price</th>\n",
       "      <th>pizza_size</th>\n",
       "      <th>pizza_category</th>\n",
       "      <th>pizza_ingredients</th>\n",
       "      <th>pizza_name</th>\n",
       "      <th>first_name</th>\n",
       "      <th>second_name</th>\n",
       "      <th>address</th>\n",
       "      <th>date_of_birth</th>\n",
       "    </tr>\n",
       "  </thead>\n",
       "  <tbody>\n",
       "    <tr>\n",
       "      <th>0</th>\n",
       "      <td>1</td>\n",
       "      <td>1</td>\n",
       "      <td>hawaiian_m</td>\n",
       "      <td>1</td>\n",
       "      <td>2015-01-01</td>\n",
       "      <td>1900-01-01 11:38:00</td>\n",
       "      <td>13.25</td>\n",
       "      <td>13.25</td>\n",
       "      <td>M</td>\n",
       "      <td>Classic</td>\n",
       "      <td>Sliced Ham, Pineapple, Mozzarella Cheese</td>\n",
       "      <td>The Hawaiian Pizza</td>\n",
       "      <td>Darren</td>\n",
       "      <td>Lambert</td>\n",
       "      <td>360 Holland Pine Suite 597\\r\\nMartinezview, SC...</td>\n",
       "      <td>1943-04-24</td>\n",
       "    </tr>\n",
       "    <tr>\n",
       "      <th>1</th>\n",
       "      <td>2</td>\n",
       "      <td>2</td>\n",
       "      <td>classic_dlx_m</td>\n",
       "      <td>1</td>\n",
       "      <td>2015-01-01</td>\n",
       "      <td>1900-01-01 11:57:00</td>\n",
       "      <td>16.00</td>\n",
       "      <td>16.00</td>\n",
       "      <td>M</td>\n",
       "      <td>Classic</td>\n",
       "      <td>Pepperoni, Mushrooms, Red Onions, Red Peppers,...</td>\n",
       "      <td>The Classic Deluxe Pizza</td>\n",
       "      <td>Curtis</td>\n",
       "      <td>Clayton</td>\n",
       "      <td>96436 Lisa Field\\r\\nEast John, DE 91152</td>\n",
       "      <td>1997-08-23</td>\n",
       "    </tr>\n",
       "    <tr>\n",
       "      <th>2</th>\n",
       "      <td>3</td>\n",
       "      <td>2</td>\n",
       "      <td>five_cheese_l</td>\n",
       "      <td>1</td>\n",
       "      <td>2015-01-01</td>\n",
       "      <td>1900-01-01 11:57:00</td>\n",
       "      <td>18.50</td>\n",
       "      <td>18.50</td>\n",
       "      <td>L</td>\n",
       "      <td>Veggie</td>\n",
       "      <td>Mozzarella Cheese, Provolone Cheese, Smoked Go...</td>\n",
       "      <td>The Five Cheese Pizza</td>\n",
       "      <td>Curtis</td>\n",
       "      <td>Clayton</td>\n",
       "      <td>96436 Lisa Field\\r\\nEast John, DE 91152</td>\n",
       "      <td>1997-08-23</td>\n",
       "    </tr>\n",
       "    <tr>\n",
       "      <th>3</th>\n",
       "      <td>4</td>\n",
       "      <td>2</td>\n",
       "      <td>ital_supr_l</td>\n",
       "      <td>1</td>\n",
       "      <td>2015-01-01</td>\n",
       "      <td>1900-01-01 11:57:00</td>\n",
       "      <td>20.75</td>\n",
       "      <td>20.75</td>\n",
       "      <td>L</td>\n",
       "      <td>Supreme</td>\n",
       "      <td>Calabrese Salami, Capocollo, Tomatoes, Red Oni...</td>\n",
       "      <td>The Italian Supreme Pizza</td>\n",
       "      <td>Curtis</td>\n",
       "      <td>Clayton</td>\n",
       "      <td>96436 Lisa Field\\r\\nEast John, DE 91152</td>\n",
       "      <td>1997-08-23</td>\n",
       "    </tr>\n",
       "    <tr>\n",
       "      <th>4</th>\n",
       "      <td>5</td>\n",
       "      <td>2</td>\n",
       "      <td>mexicana_m</td>\n",
       "      <td>1</td>\n",
       "      <td>2015-01-01</td>\n",
       "      <td>1900-01-01 11:57:00</td>\n",
       "      <td>16.00</td>\n",
       "      <td>16.00</td>\n",
       "      <td>M</td>\n",
       "      <td>Veggie</td>\n",
       "      <td>Tomatoes, Red Peppers, Jalapeno Peppers, Red O...</td>\n",
       "      <td>The Mexicana Pizza</td>\n",
       "      <td>Curtis</td>\n",
       "      <td>Clayton</td>\n",
       "      <td>96436 Lisa Field\\r\\nEast John, DE 91152</td>\n",
       "      <td>1997-08-23</td>\n",
       "    </tr>\n",
       "  </tbody>\n",
       "</table>\n",
       "</div>"
      ],
      "text/plain": [
       "   order_details_id  order_id       pizza_id  quantity order_date  \\\n",
       "0                 1         1     hawaiian_m         1 2015-01-01   \n",
       "1                 2         2  classic_dlx_m         1 2015-01-01   \n",
       "2                 3         2  five_cheese_l         1 2015-01-01   \n",
       "3                 4         2    ital_supr_l         1 2015-01-01   \n",
       "4                 5         2     mexicana_m         1 2015-01-01   \n",
       "\n",
       "           order_time  unit_price  total_price pizza_size pizza_category  \\\n",
       "0 1900-01-01 11:38:00       13.25        13.25          M        Classic   \n",
       "1 1900-01-01 11:57:00       16.00        16.00          M        Classic   \n",
       "2 1900-01-01 11:57:00       18.50        18.50          L         Veggie   \n",
       "3 1900-01-01 11:57:00       20.75        20.75          L        Supreme   \n",
       "4 1900-01-01 11:57:00       16.00        16.00          M         Veggie   \n",
       "\n",
       "                                   pizza_ingredients  \\\n",
       "0           Sliced Ham, Pineapple, Mozzarella Cheese   \n",
       "1  Pepperoni, Mushrooms, Red Onions, Red Peppers,...   \n",
       "2  Mozzarella Cheese, Provolone Cheese, Smoked Go...   \n",
       "3  Calabrese Salami, Capocollo, Tomatoes, Red Oni...   \n",
       "4  Tomatoes, Red Peppers, Jalapeno Peppers, Red O...   \n",
       "\n",
       "                  pizza_name first_name second_name  \\\n",
       "0         The Hawaiian Pizza     Darren     Lambert   \n",
       "1   The Classic Deluxe Pizza     Curtis     Clayton   \n",
       "2      The Five Cheese Pizza     Curtis     Clayton   \n",
       "3  The Italian Supreme Pizza     Curtis     Clayton   \n",
       "4         The Mexicana Pizza     Curtis     Clayton   \n",
       "\n",
       "                                             address date_of_birth  \n",
       "0  360 Holland Pine Suite 597\\r\\nMartinezview, SC...    1943-04-24  \n",
       "1            96436 Lisa Field\\r\\nEast John, DE 91152    1997-08-23  \n",
       "2            96436 Lisa Field\\r\\nEast John, DE 91152    1997-08-23  \n",
       "3            96436 Lisa Field\\r\\nEast John, DE 91152    1997-08-23  \n",
       "4            96436 Lisa Field\\r\\nEast John, DE 91152    1997-08-23  "
      ]
     },
     "execution_count": 3,
     "metadata": {},
     "output_type": "execute_result"
    }
   ],
   "source": [
    "pizzas.head()"
   ]
  },
  {
   "cell_type": "markdown",
   "metadata": {},
   "source": [
    "** Use the .info() method to find out how many entries there are.**"
   ]
  },
  {
   "cell_type": "code",
   "execution_count": 4,
   "metadata": {
    "collapsed": false,
    "jupyter": {
     "outputs_hidden": false
    }
   },
   "outputs": [
    {
     "name": "stdout",
     "output_type": "stream",
     "text": [
      "<class 'pandas.core.frame.DataFrame'>\n",
      "RangeIndex: 48620 entries, 0 to 48619\n",
      "Data columns (total 16 columns):\n",
      " #   Column             Non-Null Count  Dtype         \n",
      "---  ------             --------------  -----         \n",
      " 0   order_details_id   48620 non-null  int64         \n",
      " 1   order_id           48620 non-null  int64         \n",
      " 2   pizza_id           48620 non-null  object        \n",
      " 3   quantity           48620 non-null  int64         \n",
      " 4   order_date         48620 non-null  datetime64[ns]\n",
      " 5   order_time         48620 non-null  datetime64[ns]\n",
      " 6   unit_price         48620 non-null  float64       \n",
      " 7   total_price        48620 non-null  float64       \n",
      " 8   pizza_size         48620 non-null  object        \n",
      " 9   pizza_category     48620 non-null  object        \n",
      " 10  pizza_ingredients  48620 non-null  object        \n",
      " 11  pizza_name         48620 non-null  object        \n",
      " 12  first_name         48619 non-null  object        \n",
      " 13  second_name        48619 non-null  object        \n",
      " 14  address            48619 non-null  object        \n",
      " 15  date_of_birth      48619 non-null  object        \n",
      "dtypes: datetime64[ns](2), float64(2), int64(3), object(9)\n",
      "memory usage: 5.9+ MB\n"
     ]
    }
   ],
   "source": [
    "pizzas.info()"
   ]
  },
  {
   "cell_type": "markdown",
   "metadata": {},
   "source": [
    "**What is the average `total_price`?**"
   ]
  },
  {
   "cell_type": "code",
   "execution_count": 5,
   "metadata": {
    "collapsed": false,
    "jupyter": {
     "outputs_hidden": false
    }
   },
   "outputs": [
    {
     "data": {
      "text/plain": [
       "16.821473673385437"
      ]
     },
     "execution_count": 5,
     "metadata": {},
     "output_type": "execute_result"
    }
   ],
   "source": [
    "pizzas[\"total_price\"].mean()"
   ]
  },
  {
   "cell_type": "markdown",
   "metadata": {},
   "source": [
    "**What is the `best-selling` pizza?**"
   ]
  },
  {
   "cell_type": "code",
   "execution_count": 6,
   "metadata": {
    "collapsed": false,
    "jupyter": {
     "outputs_hidden": false
    }
   },
   "outputs": [
    {
     "data": {
      "text/plain": [
       "'The Classic Deluxe Pizza'"
      ]
     },
     "execution_count": 6,
     "metadata": {},
     "output_type": "execute_result"
    }
   ],
   "source": [
    "most_sold_pizza = pizzas[\"pizza_name\"].value_counts().idxmax()\n",
    "most_sold_pizza"
   ]
  },
  {
   "cell_type": "markdown",
   "metadata": {},
   "source": [
    "**What is the best-selling pizza size? What is the ratio of that size to overall sales?**"
   ]
  },
  {
   "cell_type": "code",
   "execution_count": 7,
   "metadata": {},
   "outputs": [
    {
     "data": {
      "text/plain": [
       "(18956, 0.3823778593617622)"
      ]
     },
     "execution_count": 7,
     "metadata": {},
     "output_type": "execute_result"
    }
   ],
   "source": [
    "# Calculate total sales of pizzas by size\n",
    "pizza_size_sales = pizzas.groupby(\"pizza_size\")[\"quantity\"].sum()\n",
    "\n",
    "# Best-selling pizza size\n",
    "best_selling_size_sales = pizza_size_sales.max()\n",
    "\n",
    "# Overall sales\n",
    "total_sales = pizza_size_sales.sum()\n",
    "\n",
    "# Calculate the ratio of best-selling pizza size to overall sales\n",
    "best_selling_ratio = best_selling_size_sales / total_sales\n",
    "best_selling_size_sales, best_selling_ratio"
   ]
  },
  {
   "cell_type": "markdown",
   "metadata": {},
   "source": [
    "**What is the best-selling pizza during lunchtime (12-13)?**"
   ]
  },
  {
   "cell_type": "code",
   "execution_count": 8,
   "metadata": {
    "collapsed": false,
    "jupyter": {
     "outputs_hidden": false
    }
   },
   "outputs": [
    {
     "data": {
      "text/plain": [
       "'The Pepperoni Pizza'"
      ]
     },
     "execution_count": 8,
     "metadata": {},
     "output_type": "execute_result"
    }
   ],
   "source": [
    "lunchtime_pizzas = pizzas[\n",
    "    (pizzas[\"order_time\"].dt.hour >= 12) & (pizzas[\"order_time\"].dt.hour < 13)\n",
    "]\n",
    "most_sold_lunctime_pizza = lunchtime_pizzas[\"pizza_name\"].value_counts().idxmax()\n",
    "most_sold_lunctime_pizza"
   ]
  },
  {
   "cell_type": "markdown",
   "metadata": {},
   "source": [
    "**Calculate total earnings from each pizza types. What are the three top earners?**"
   ]
  },
  {
   "cell_type": "code",
   "execution_count": 9,
   "metadata": {
    "collapsed": false,
    "jupyter": {
     "outputs_hidden": false
    }
   },
   "outputs": [
    {
     "data": {
      "text/plain": [
       "pizza_category\n",
       "Classic    220053.1\n",
       "Supreme    208197.0\n",
       "Chicken    195919.5\n",
       "Name: total_price, dtype: float64"
      ]
     },
     "execution_count": 9,
     "metadata": {},
     "output_type": "execute_result"
    }
   ],
   "source": [
    "# Calculating total earnings from each pizza type/category\n",
    "total_earnings_per_pizza_type = pizzas.groupby(\"pizza_category\")[\"total_price\"].sum()\n",
    "\n",
    "# Finding the top 3 pizza types with the highest total earnings\n",
    "top_3_earning_pizza_types = total_earnings_per_pizza_type.sort_values(\n",
    "    ascending=False\n",
    ").head(3)\n",
    "\n",
    "top_3_earning_pizza_types"
   ]
  },
  {
   "cell_type": "markdown",
   "metadata": {},
   "source": [
    "**What's the name of the person who bought most pizzas?**"
   ]
  },
  {
   "cell_type": "code",
   "execution_count": 10,
   "metadata": {
    "collapsed": false,
    "jupyter": {
     "outputs_hidden": false
    }
   },
   "outputs": [
    {
     "data": {
      "text/plain": [
       "(('Emily', 'Davis'), 55)"
      ]
     },
     "execution_count": 10,
     "metadata": {},
     "output_type": "execute_result"
    }
   ],
   "source": [
    "# Calculating the total quantity of pizzas bought by each person\n",
    "total_pizzas_per_person = pizzas.groupby([\"first_name\", \"second_name\"])[\n",
    "    \"quantity\"\n",
    "].sum()\n",
    "\n",
    "# Finding the person who bought the most pizzas\n",
    "person_who_bought_most_pizzas = total_pizzas_per_person.idxmax()\n",
    "most_pizzas_bought = total_pizzas_per_person.max()\n",
    "\n",
    "person_who_bought_most_pizzas, most_pizzas_bought"
   ]
  },
  {
   "cell_type": "markdown",
   "metadata": {},
   "source": [
    "**How much money did that person spent on pizzas?** "
   ]
  },
  {
   "cell_type": "code",
   "execution_count": 11,
   "metadata": {},
   "outputs": [
    {
     "data": {
      "text/plain": [
       "940.25"
      ]
     },
     "execution_count": 11,
     "metadata": {},
     "output_type": "execute_result"
    }
   ],
   "source": [
    "# Calculating the total amount of money spent on pizzas by the person who bought the most pizzas\n",
    "money_spent_by_top_buyer = pizzas[\n",
    "    (pizzas[\"first_name\"] == \"Emily\") & (pizzas[\"second_name\"] == \"Davis\")\n",
    "][\"total_price\"].sum()\n",
    "money_spent_by_top_buyer"
   ]
  },
  {
   "cell_type": "markdown",
   "metadata": {},
   "source": [
    "**What was the average sale per every month?**"
   ]
  },
  {
   "cell_type": "code",
   "execution_count": 12,
   "metadata": {
    "collapsed": false,
    "jupyter": {
     "outputs_hidden": false
    }
   },
   "outputs": [
    {
     "data": {
      "text/plain": [
       "order_date\n",
       "2015-01    16.793383\n",
       "2015-02    16.741932\n",
       "2015-03    16.817272\n",
       "2015-04    16.901106\n",
       "2015-05    16.844244\n",
       "2015-06    16.951602\n",
       "2015-07    16.870007\n",
       "2015-08    16.677638\n",
       "2015-09    16.805460\n",
       "2015-10    16.862681\n",
       "2015-11    16.820872\n",
       "2015-12    16.766300\n",
       "Freq: M, Name: total_price, dtype: float64"
      ]
     },
     "execution_count": 12,
     "metadata": {},
     "output_type": "execute_result"
    }
   ],
   "source": [
    "average_sale_per_month = pizzas.groupby(pizzas[\"order_date\"].dt.to_period(\"M\"))[\n",
    "    \"total_price\"\n",
    "].mean()\n",
    "average_sale_per_month"
   ]
  },
  {
   "cell_type": "markdown",
   "metadata": {},
   "source": [
    "**On average, how many pizzas a person buys monthly?**"
   ]
  },
  {
   "cell_type": "code",
   "execution_count": 13,
   "metadata": {
    "collapsed": false,
    "jupyter": {
     "outputs_hidden": false
    }
   },
   "outputs": [
    {
     "data": {
      "text/plain": [
       "2.7978891522745233"
      ]
     },
     "execution_count": 13,
     "metadata": {},
     "output_type": "execute_result"
    }
   ],
   "source": [
    "# Group by month and person, then calculate the mean number of pizzas bought\n",
    "pizzas[\"year_month\"] = pizzas[\"order_date\"].dt.to_period(\"M\")\n",
    "monthly_pizza_per_person = (\n",
    "    pizzas.groupby([\"year_month\", \"first_name\", \"second_name\"])[\"quantity\"]\n",
    "    .sum()\n",
    "    .reset_index()\n",
    ")\n",
    "\n",
    "# Calculate the average number of pizzas bought per person per month\n",
    "average_pizzas_per_person_per_month = monthly_pizza_per_person[\"quantity\"].mean()\n",
    "average_pizzas_per_person_per_month"
   ]
  },
  {
   "cell_type": "markdown",
   "metadata": {},
   "source": [
    "**Bonus: What are the 5 most common ingredients?**\n",
    "\n",
    "Tip: research the .explode() dotmethod of pandas!"
   ]
  },
  {
   "cell_type": "code",
   "execution_count": 14,
   "metadata": {},
   "outputs": [
    {
     "data": {
      "text/plain": [
       "Garlic               27422\n",
       "Tomatoes             26601\n",
       "Red Onions           19547\n",
       "Red Peppers          16284\n",
       "Mozzarella Cheese    10333\n",
       "Name: pizza_ingredients, dtype: int64"
      ]
     },
     "execution_count": 14,
     "metadata": {},
     "output_type": "execute_result"
    }
   ],
   "source": [
    "# Explode the pizza ingredients into separate rows per every order_id\n",
    "pizzas_exploded = pizzas.copy()\n",
    "\n",
    "pizzas_exploded[\"pizza_ingredients\"] = pizzas_exploded[\"pizza_ingredients\"].str.split(\n",
    "    \", \"\n",
    ")\n",
    "pizzas_exploded = pizzas_exploded.explode(\"pizza_ingredients\")[\n",
    "    [\"order_details_id\", \"order_id\", \"pizza_ingredients\"]\n",
    "]\n",
    "# Find the 5 most common pizza ingredients\n",
    "top_ingredients = pizzas_exploded[\"pizza_ingredients\"].value_counts().head(5)\n",
    "top_ingredients"
   ]
  }
 ],
 "metadata": {
  "kernelspec": {
   "display_name": "Python 3 (ipykernel)",
   "language": "python",
   "name": "python3"
  },
  "language_info": {
   "codemirror_mode": {
    "name": "ipython",
    "version": 3
   },
   "file_extension": ".py",
   "mimetype": "text/x-python",
   "name": "python",
   "nbconvert_exporter": "python",
   "pygments_lexer": "ipython3",
   "version": "3.8.0"
  }
 },
 "nbformat": 4,
 "nbformat_minor": 4
}
